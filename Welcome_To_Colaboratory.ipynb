{
  "nbformat": 4,
  "nbformat_minor": 0,
  "metadata": {
    "colab": {
      "name": "Welcome To Colaboratory",
      "provenance": [],
      "collapsed_sections": [],
      "toc_visible": true,
      "include_colab_link": true
    },
    "kernelspec": {
      "display_name": "Python 3",
      "name": "python3"
    }
  },
  "cells": [
    {
      "cell_type": "markdown",
      "metadata": {
        "id": "view-in-github",
        "colab_type": "text"
      },
      "source": [
        "<a href=\"https://colab.research.google.com/github/emilylai1031/Emily-lai/blob/master/Welcome_To_Colaboratory.ipynb\" target=\"_parent\"><img src=\"https://colab.research.google.com/assets/colab-badge.svg\" alt=\"Open In Colab\"/></a>"
      ]
    },
    {
      "cell_type": "code",
      "metadata": {
        "id": "q5c7rQ-xtHMz",
        "colab_type": "code",
        "colab": {
          "base_uri": "https://localhost:8080/",
          "height": 51
        },
        "outputId": "cdd8da65-a8ad-4340-c1ad-e94a853b97bc"
      },
      "source": [
        "n=int(input('請輸入一個數字'))\n",
        "flag=True\n",
        "for i in range(2,n):\n",
        "  if n%i==0:\n",
        "    flag=False\n",
        "    break\n",
        "if flag==True:\n",
        "  print(n,'是質數')\n",
        "else:\n",
        "  print(n,'不是質數')         \n",
        "\n",
        "   "
      ],
      "execution_count": 38,
      "outputs": [
        {
          "output_type": "stream",
          "text": [
            "請輸入一個數字29\n",
            "29 是質數\n"
          ],
          "name": "stdout"
        }
      ]
    },
    {
      "cell_type": "code",
      "metadata": {
        "id": "lJyAIIQZj_om",
        "colab_type": "code",
        "colab": {
          "base_uri": "https://localhost:8080/",
          "height": 34
        },
        "outputId": "47b2b4af-e4ed-40b8-d834-d58ad9d5ba7c"
      },
      "source": [
        "x=[1,2,3]\n",
        "x+='abc'\n",
        "print(x)"
      ],
      "execution_count": 40,
      "outputs": [
        {
          "output_type": "stream",
          "text": [
            "[1, 2, 3, 'a', 'b', 'c']\n"
          ],
          "name": "stdout"
        }
      ]
    },
    {
      "cell_type": "code",
      "metadata": {
        "id": "diwticp6vnkn",
        "colab_type": "code",
        "colab": {
          "base_uri": "https://localhost:8080/",
          "height": 153
        },
        "outputId": "cf2559ac-8953-43d4-b830-16d089322f2f"
      },
      "source": [
        "a=input('請輸入第一個字符串')\n",
        "b=input('請輸入第二個字符串')\n",
        "c=input('請輸入第三個字符串')\n",
        "m=len(a)\n",
        "if len(b)>m:\n",
        "  m=len(b)\n",
        "if len(c)>m:\n",
        "  m=len(c)\n",
        "#print(m) 最長的字符串\n",
        "line1='+'+'-'*(m+2)+'+'\n",
        "print(line1)\n",
        "left=(m-len(a))//2\n",
        "right=m-len(a)-left\n",
        "line='| '+' '*left+a+' '*right+' |'\n",
        "print(line)\n",
        "\n",
        "left=(m-len(b))//2\n",
        "right=m-len(b)-left\n",
        "line2='| '+' '*left+b+' '*right+' |'\n",
        "print(line2)\n",
        "\n",
        "left=(m-len(c))//2\n",
        "right=m-len(c)-left\n",
        "line3='| '+' '*left+c+' '*right+' |'\n",
        "print(line3)\n",
        "print(line1)"
      ],
      "execution_count": 51,
      "outputs": [
        {
          "output_type": "stream",
          "text": [
            "請輸入第一個字符串123\n",
            "請輸入第二個字符串1234\n",
            "請輸入第三個字符串12345\n",
            "+-------+\n",
            "|  123  |\n",
            "| 1234  |\n",
            "| 12345 |\n",
            "+-------+\n"
          ],
          "name": "stdout"
        }
      ]
    },
    {
      "cell_type": "code",
      "metadata": {
        "id": "yL0kaswE6IuC",
        "colab_type": "code",
        "colab": {
          "base_uri": "https://localhost:8080/",
          "height": 153
        },
        "outputId": "fbde48b3-d140-4567-e645-b6e7ecae39e5"
      },
      "source": [
        "a=input('請輸入第一個字符串')\n",
        "b=input('請輸入第二個字符串')\n",
        "c=input('請輸入第三個字符串')\n",
        "m=len(a)\n",
        "if len(b)>m:\n",
        "  m=len(b)\n",
        "if len(c)>m:\n",
        "  m=len(c)\n",
        "#print(m) 最長的字符串\n",
        "line1='+'+'-'*(m+2)+'+'\n",
        "print(line1)\n",
        "print('| '+a.center(m)+' |')\n",
        "print('| '+b.center(m)+' |')\n",
        "print('| '+c.center(m)+' |')\n",
        "print(line1)"
      ],
      "execution_count": 55,
      "outputs": [
        {
          "output_type": "stream",
          "text": [
            "請輸入第一個字符串,fd.f,.d\n",
            "請輸入第二個字符串dlfkw'\n",
            "請輸入第三個字符串f,.d,g.\n",
            "+----------+\n",
            "| ,fd.f,.d |\n",
            "|  dlfkw'  |\n",
            "| f,.d,g.  |\n",
            "+----------+\n"
          ],
          "name": "stdout"
        }
      ]
    },
    {
      "cell_type": "code",
      "metadata": {
        "id": "AW87Gu-V8AFl",
        "colab_type": "code",
        "colab": {}
      },
      "source": [
        ""
      ],
      "execution_count": 0,
      "outputs": []
    }
  ]
}